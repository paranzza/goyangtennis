{
 "cells": [
  {
   "cell_type": "code",
   "execution_count": 1,
   "id": "c1f9488a",
   "metadata": {},
   "outputs": [],
   "source": [
    "from selenium import webdriver"
   ]
  },
  {
   "cell_type": "code",
   "execution_count": 2,
   "id": "21d5d054",
   "metadata": {},
   "outputs": [],
   "source": [
    "import pyautogui"
   ]
  },
  {
   "cell_type": "code",
   "execution_count": 3,
   "id": "399a9928",
   "metadata": {},
   "outputs": [],
   "source": [
    "import time"
   ]
  },
  {
   "cell_type": "code",
   "execution_count": 4,
   "id": "66d7b851",
   "metadata": {
    "scrolled": true
   },
   "outputs": [],
   "source": [
    "driver = webdriver.Chrome()"
   ]
  },
  {
   "cell_type": "code",
   "execution_count": 5,
   "id": "e7bc0ea2",
   "metadata": {},
   "outputs": [],
   "source": [
    "url = \"https://goyangtennis.or.kr/bbs/board.php?bo_table=tennis_reservation\"\n",
    "driver.get(url)"
   ]
  },
  {
   "cell_type": "code",
   "execution_count": 6,
   "id": "a4ecc351",
   "metadata": {},
   "outputs": [],
   "source": [
    "time.sleep(1.5)"
   ]
  },
  {
   "cell_type": "code",
   "execution_count": 7,
   "id": "d3105f1d",
   "metadata": {},
   "outputs": [],
   "source": [
    "pyautogui.moveTo(891,278)\n",
    "pyautogui.click()"
   ]
  },
  {
   "cell_type": "code",
   "execution_count": 8,
   "id": "a053cb58",
   "metadata": {},
   "outputs": [],
   "source": [
    "time.sleep(1)"
   ]
  },
  {
   "cell_type": "code",
   "execution_count": 9,
   "id": "7c990df7",
   "metadata": {
    "scrolled": true
   },
   "outputs": [],
   "source": [
    "xpath=\"//input[@name='mb_id']\"\n",
    "driver.find_element_by_xpath(xpath).send_keys('terin1')"
   ]
  },
  {
   "cell_type": "code",
   "execution_count": 10,
   "id": "2c7954cf",
   "metadata": {
    "scrolled": true
   },
   "outputs": [],
   "source": [
    "xpath=\"//input[@name='mb_password']\"\n",
    "driver.find_element_by_xpath(xpath).send_keys('1111aa@@')"
   ]
  },
  {
   "cell_type": "code",
   "execution_count": 11,
   "id": "7c46add1",
   "metadata": {},
   "outputs": [],
   "source": [
    "xpath=\"//button[@class='btn-e btn-e-red']\"\n",
    "driver.find_element_by_xpath(xpath).click()"
   ]
  },
  {
   "cell_type": "code",
   "execution_count": 12,
   "id": "8289172a",
   "metadata": {},
   "outputs": [],
   "source": [
    "#1번째\n",
    "\n",
    "xpath=\"//a[@title='토당시립코트 예약하기']\"\n",
    "driver.find_element_by_xpath(xpath).click()"
   ]
  },
  {
   "cell_type": "code",
   "execution_count": 13,
   "id": "1fce499c",
   "metadata": {
    "scrolled": true
   },
   "outputs": [
    {
     "ename": "UnexpectedAlertPresentException",
     "evalue": "Alert Text: 예약가능 시간대는 10시 부터 23시 까지 입니다.\nMessage: unexpected alert open: {Alert text : 예약가능 시간대는 10시 부터 23시 까지 입니다.}\n  (Session info: chrome=99.0.4844.82)\n",
     "output_type": "error",
     "traceback": [
      "\u001b[1;31m---------------------------------------------------------------------------\u001b[0m",
      "\u001b[1;31mUnexpectedAlertPresentException\u001b[0m           Traceback (most recent call last)",
      "Input \u001b[1;32mIn [13]\u001b[0m, in \u001b[0;36m<cell line: 4>\u001b[1;34m()\u001b[0m\n\u001b[0;32m      1\u001b[0m \u001b[38;5;66;03m#코트번호4번=31, 5번=32\u001b[39;00m\n\u001b[0;32m      3\u001b[0m xpath\u001b[38;5;241m=\u001b[39m\u001b[38;5;124m\"\u001b[39m\u001b[38;5;124m//a[@data-rm-ix=\u001b[39m\u001b[38;5;124m'\u001b[39m\u001b[38;5;124m31\u001b[39m\u001b[38;5;124m'\u001b[39m\u001b[38;5;124m]\u001b[39m\u001b[38;5;124m\"\u001b[39m\n\u001b[1;32m----> 4\u001b[0m \u001b[43mdriver\u001b[49m\u001b[38;5;241;43m.\u001b[39;49m\u001b[43mfind_element_by_xpath\u001b[49m\u001b[43m(\u001b[49m\u001b[43mxpath\u001b[49m\u001b[43m)\u001b[49m\u001b[38;5;241m.\u001b[39mclick()\n",
      "File \u001b[1;32m~\\anaconda3\\lib\\site-packages\\selenium\\webdriver\\remote\\webdriver.py:394\u001b[0m, in \u001b[0;36mWebDriver.find_element_by_xpath\u001b[1;34m(self, xpath)\u001b[0m\n\u001b[0;32m    378\u001b[0m \u001b[38;5;28;01mdef\u001b[39;00m \u001b[38;5;21mfind_element_by_xpath\u001b[39m(\u001b[38;5;28mself\u001b[39m, xpath):\n\u001b[0;32m    379\u001b[0m     \u001b[38;5;124;03m\"\"\"\u001b[39;00m\n\u001b[0;32m    380\u001b[0m \u001b[38;5;124;03m    Finds an element by xpath.\u001b[39;00m\n\u001b[0;32m    381\u001b[0m \n\u001b[1;32m   (...)\u001b[0m\n\u001b[0;32m    392\u001b[0m \u001b[38;5;124;03m        element = driver.find_element_by_xpath('//div/td[1]')\u001b[39;00m\n\u001b[0;32m    393\u001b[0m \u001b[38;5;124;03m    \"\"\"\u001b[39;00m\n\u001b[1;32m--> 394\u001b[0m     \u001b[38;5;28;01mreturn\u001b[39;00m \u001b[38;5;28;43mself\u001b[39;49m\u001b[38;5;241;43m.\u001b[39;49m\u001b[43mfind_element\u001b[49m\u001b[43m(\u001b[49m\u001b[43mby\u001b[49m\u001b[38;5;241;43m=\u001b[39;49m\u001b[43mBy\u001b[49m\u001b[38;5;241;43m.\u001b[39;49m\u001b[43mXPATH\u001b[49m\u001b[43m,\u001b[49m\u001b[43m \u001b[49m\u001b[43mvalue\u001b[49m\u001b[38;5;241;43m=\u001b[39;49m\u001b[43mxpath\u001b[49m\u001b[43m)\u001b[49m\n",
      "File \u001b[1;32m~\\anaconda3\\lib\\site-packages\\selenium\\webdriver\\remote\\webdriver.py:976\u001b[0m, in \u001b[0;36mWebDriver.find_element\u001b[1;34m(self, by, value)\u001b[0m\n\u001b[0;32m    974\u001b[0m         by \u001b[38;5;241m=\u001b[39m By\u001b[38;5;241m.\u001b[39mCSS_SELECTOR\n\u001b[0;32m    975\u001b[0m         value \u001b[38;5;241m=\u001b[39m \u001b[38;5;124m'\u001b[39m\u001b[38;5;124m[name=\u001b[39m\u001b[38;5;124m\"\u001b[39m\u001b[38;5;132;01m%s\u001b[39;00m\u001b[38;5;124m\"\u001b[39m\u001b[38;5;124m]\u001b[39m\u001b[38;5;124m'\u001b[39m \u001b[38;5;241m%\u001b[39m value\n\u001b[1;32m--> 976\u001b[0m \u001b[38;5;28;01mreturn\u001b[39;00m \u001b[38;5;28;43mself\u001b[39;49m\u001b[38;5;241;43m.\u001b[39;49m\u001b[43mexecute\u001b[49m\u001b[43m(\u001b[49m\u001b[43mCommand\u001b[49m\u001b[38;5;241;43m.\u001b[39;49m\u001b[43mFIND_ELEMENT\u001b[49m\u001b[43m,\u001b[49m\u001b[43m \u001b[49m\u001b[43m{\u001b[49m\n\u001b[0;32m    977\u001b[0m \u001b[43m    \u001b[49m\u001b[38;5;124;43m'\u001b[39;49m\u001b[38;5;124;43musing\u001b[39;49m\u001b[38;5;124;43m'\u001b[39;49m\u001b[43m:\u001b[49m\u001b[43m \u001b[49m\u001b[43mby\u001b[49m\u001b[43m,\u001b[49m\n\u001b[0;32m    978\u001b[0m \u001b[43m    \u001b[49m\u001b[38;5;124;43m'\u001b[39;49m\u001b[38;5;124;43mvalue\u001b[39;49m\u001b[38;5;124;43m'\u001b[39;49m\u001b[43m:\u001b[49m\u001b[43m \u001b[49m\u001b[43mvalue\u001b[49m\u001b[43m}\u001b[49m\u001b[43m)\u001b[49m[\u001b[38;5;124m'\u001b[39m\u001b[38;5;124mvalue\u001b[39m\u001b[38;5;124m'\u001b[39m]\n",
      "File \u001b[1;32m~\\anaconda3\\lib\\site-packages\\selenium\\webdriver\\remote\\webdriver.py:321\u001b[0m, in \u001b[0;36mWebDriver.execute\u001b[1;34m(self, driver_command, params)\u001b[0m\n\u001b[0;32m    319\u001b[0m response \u001b[38;5;241m=\u001b[39m \u001b[38;5;28mself\u001b[39m\u001b[38;5;241m.\u001b[39mcommand_executor\u001b[38;5;241m.\u001b[39mexecute(driver_command, params)\n\u001b[0;32m    320\u001b[0m \u001b[38;5;28;01mif\u001b[39;00m response:\n\u001b[1;32m--> 321\u001b[0m     \u001b[38;5;28;43mself\u001b[39;49m\u001b[38;5;241;43m.\u001b[39;49m\u001b[43merror_handler\u001b[49m\u001b[38;5;241;43m.\u001b[39;49m\u001b[43mcheck_response\u001b[49m\u001b[43m(\u001b[49m\u001b[43mresponse\u001b[49m\u001b[43m)\u001b[49m\n\u001b[0;32m    322\u001b[0m     response[\u001b[38;5;124m'\u001b[39m\u001b[38;5;124mvalue\u001b[39m\u001b[38;5;124m'\u001b[39m] \u001b[38;5;241m=\u001b[39m \u001b[38;5;28mself\u001b[39m\u001b[38;5;241m.\u001b[39m_unwrap_value(\n\u001b[0;32m    323\u001b[0m         response\u001b[38;5;241m.\u001b[39mget(\u001b[38;5;124m'\u001b[39m\u001b[38;5;124mvalue\u001b[39m\u001b[38;5;124m'\u001b[39m, \u001b[38;5;28;01mNone\u001b[39;00m))\n\u001b[0;32m    324\u001b[0m     \u001b[38;5;28;01mreturn\u001b[39;00m response\n",
      "File \u001b[1;32m~\\anaconda3\\lib\\site-packages\\selenium\\webdriver\\remote\\errorhandler.py:241\u001b[0m, in \u001b[0;36mErrorHandler.check_response\u001b[1;34m(self, response)\u001b[0m\n\u001b[0;32m    239\u001b[0m     \u001b[38;5;28;01melif\u001b[39;00m \u001b[38;5;124m'\u001b[39m\u001b[38;5;124malert\u001b[39m\u001b[38;5;124m'\u001b[39m \u001b[38;5;129;01min\u001b[39;00m value:\n\u001b[0;32m    240\u001b[0m         alert_text \u001b[38;5;241m=\u001b[39m value[\u001b[38;5;124m'\u001b[39m\u001b[38;5;124malert\u001b[39m\u001b[38;5;124m'\u001b[39m]\u001b[38;5;241m.\u001b[39mget(\u001b[38;5;124m'\u001b[39m\u001b[38;5;124mtext\u001b[39m\u001b[38;5;124m'\u001b[39m)\n\u001b[1;32m--> 241\u001b[0m     \u001b[38;5;28;01mraise\u001b[39;00m exception_class(message, screen, stacktrace, alert_text)\n\u001b[0;32m    242\u001b[0m \u001b[38;5;28;01mraise\u001b[39;00m exception_class(message, screen, stacktrace)\n",
      "\u001b[1;31mUnexpectedAlertPresentException\u001b[0m: Alert Text: 예약가능 시간대는 10시 부터 23시 까지 입니다.\nMessage: unexpected alert open: {Alert text : 예약가능 시간대는 10시 부터 23시 까지 입니다.}\n  (Session info: chrome=99.0.4844.82)\n"
     ]
    }
   ],
   "source": [
    "#코트번호4번=31, 5번=32\n",
    "\n",
    "xpath=\"//a[@data-rm-ix='31']\"\n",
    "driver.find_element_by_xpath(xpath).click()"
   ]
  },
  {
   "cell_type": "code",
   "execution_count": null,
   "id": "ba761b4d",
   "metadata": {},
   "outputs": [],
   "source": [
    "time.sleep(1)"
   ]
  },
  {
   "cell_type": "code",
   "execution_count": null,
   "id": "c0bc00e7",
   "metadata": {},
   "outputs": [],
   "source": [
    "# pyautogui로 다음달 버튼 찾기\n",
    "\n"
   ]
  },
  {
   "cell_type": "code",
   "execution_count": null,
   "id": "f930dfbc",
   "metadata": {},
   "outputs": [],
   "source": [
    "xpath=\"//i[@class='fa fa-chevron-right']\"\n",
    "driver.find_element_by_xpath(xpath).click()"
   ]
  },
  {
   "cell_type": "code",
   "execution_count": null,
   "id": "adf83da7",
   "metadata": {
    "scrolled": false
   },
   "outputs": [],
   "source": [
    "xpath=\"//a[@data-date='2022-04-09']\"\n",
    "driver.find_element_by_xpath(xpath).click()"
   ]
  },
  {
   "cell_type": "code",
   "execution_count": null,
   "id": "cd5ad59a",
   "metadata": {},
   "outputs": [],
   "source": [
    "time.sleep(1)"
   ]
  },
  {
   "cell_type": "code",
   "execution_count": null,
   "id": "910ee471",
   "metadata": {},
   "outputs": [],
   "source": [
    "xpath=\"//a[@data-time='16:00']\"\n",
    "driver.find_element_by_xpath(xpath).click()"
   ]
  },
  {
   "cell_type": "code",
   "execution_count": null,
   "id": "b84ab346",
   "metadata": {},
   "outputs": [],
   "source": [
    "xpath=\"//button[@class='btn btn-success']\"\n",
    "driver.find_element_by_xpath(xpath).click()"
   ]
  },
  {
   "cell_type": "code",
   "execution_count": null,
   "id": "4d95af52",
   "metadata": {},
   "outputs": [],
   "source": [
    "xpath=\"//input[@id='bk_payment_card']\"\n",
    "driver.find_element_by_xpath(xpath).click()"
   ]
  },
  {
   "cell_type": "code",
   "execution_count": null,
   "id": "15ec7bd1",
   "metadata": {},
   "outputs": [],
   "source": [
    "xpath=\"//input[@id='agree1']\"\n",
    "driver.find_element_by_xpath(xpath).click()"
   ]
  },
  {
   "cell_type": "code",
   "execution_count": null,
   "id": "3bc5b689",
   "metadata": {},
   "outputs": [],
   "source": [
    "xpath=\"//input[@id='agree2']\"\n",
    "driver.find_element_by_xpath(xpath).click()"
   ]
  },
  {
   "cell_type": "code",
   "execution_count": null,
   "id": "14cea672",
   "metadata": {},
   "outputs": [],
   "source": [
    "xpath=\"//button[@class='btn btn-success']\"\n",
    "driver.find_element_by_xpath(xpath).click()"
   ]
  },
  {
   "cell_type": "code",
   "execution_count": null,
   "id": "0ca2635b",
   "metadata": {},
   "outputs": [],
   "source": [
    "time.sleep(1.5)"
   ]
  },
  {
   "cell_type": "code",
   "execution_count": null,
   "id": "63cfd875",
   "metadata": {},
   "outputs": [],
   "source": [
    "#전체약관동의\n",
    "\n",
    "pyautogui.moveTo(418,380)\n",
    "pyautogui.click()"
   ]
  },
  {
   "cell_type": "code",
   "execution_count": null,
   "id": "6fe2a003",
   "metadata": {},
   "outputs": [],
   "source": [
    "#삼성카드선택\n",
    "\n",
    "pyautogui.moveTo(460,440)\n",
    "pyautogui.click()"
   ]
  },
  {
   "cell_type": "code",
   "execution_count": null,
   "id": "25839cb0",
   "metadata": {},
   "outputs": [],
   "source": [
    "#카드선택완료\n",
    "\n",
    "pyautogui.moveTo(548,821)\n",
    "pyautogui.click()"
   ]
  },
  {
   "cell_type": "code",
   "execution_count": null,
   "id": "93a05d25",
   "metadata": {},
   "outputs": [],
   "source": [
    "time.sleep(1)"
   ]
  },
  {
   "cell_type": "code",
   "execution_count": null,
   "id": "12780386",
   "metadata": {},
   "outputs": [],
   "source": [
    "#앱카드결제선택\n",
    "\n",
    "pyautogui.moveTo(633,571)\n",
    "pyautogui.click()"
   ]
  },
  {
   "cell_type": "code",
   "execution_count": null,
   "id": "a6710bdb",
   "metadata": {},
   "outputs": [],
   "source": [
    "time.sleep(10)"
   ]
  },
  {
   "cell_type": "code",
   "execution_count": null,
   "id": "10b1f6f8",
   "metadata": {},
   "outputs": [],
   "source": [
    "#결제내용확인\n",
    "\n",
    "pyautogui.moveTo(430,600)\n",
    "pyautogui.click()"
   ]
  },
  {
   "cell_type": "code",
   "execution_count": null,
   "id": "0b6087b2",
   "metadata": {},
   "outputs": [],
   "source": [
    "#결제완료\n",
    "\n",
    "pyautogui.moveTo(465,801)\n",
    "pyautogui.click()"
   ]
  },
  {
   "cell_type": "code",
   "execution_count": null,
   "id": "d54c45b2",
   "metadata": {},
   "outputs": [],
   "source": [
    "xpath=\"//button[@class='btn btn-lg btn-success']\"\n",
    "driver.find_element_by_xpath(xpath).click()"
   ]
  },
  {
   "cell_type": "code",
   "execution_count": null,
   "id": "abced8a4",
   "metadata": {
    "scrolled": false
   },
   "outputs": [],
   "source": [
    "#2번째\n",
    "\n",
    "xpath=\"//a[@title='토당시립코트 예약하기']\"\n",
    "driver.find_element_by_xpath(xpath).click()"
   ]
  },
  {
   "cell_type": "code",
   "execution_count": null,
   "id": "f70fafce",
   "metadata": {},
   "outputs": [],
   "source": [
    "#코트번호4번=31, 5번=32\n",
    "\n",
    "xpath=\"//a[@data-rm-ix='31']\"\n",
    "driver.find_element_by_xpath(xpath).click()"
   ]
  },
  {
   "cell_type": "code",
   "execution_count": null,
   "id": "424fd91f",
   "metadata": {},
   "outputs": [],
   "source": [
    "time.sleep(1)"
   ]
  },
  {
   "cell_type": "code",
   "execution_count": null,
   "id": "4b575453",
   "metadata": {},
   "outputs": [],
   "source": [
    "xpath=\"//i[@class='fa fa-chevron-right']\"\n",
    "driver.find_element_by_xpath(xpath).click()"
   ]
  },
  {
   "cell_type": "code",
   "execution_count": null,
   "id": "9135cb68",
   "metadata": {},
   "outputs": [],
   "source": [
    "xpath=\"//a[@data-date='2022-03-19']\"\n",
    "driver.find_element_by_xpath(xpath).click()"
   ]
  },
  {
   "cell_type": "code",
   "execution_count": null,
   "id": "7bee1ec1",
   "metadata": {},
   "outputs": [],
   "source": [
    "xpath=\"//a[@data-time='14:00']\"\n",
    "driver.find_element_by_xpath(xpath).click()"
   ]
  },
  {
   "cell_type": "code",
   "execution_count": null,
   "id": "069d5d39",
   "metadata": {},
   "outputs": [],
   "source": [
    "xpath=\"//button[@class='btn btn-success']\"\n",
    "driver.find_element_by_xpath(xpath).click()"
   ]
  },
  {
   "cell_type": "code",
   "execution_count": null,
   "id": "e6ac8f06",
   "metadata": {},
   "outputs": [],
   "source": [
    "xpath=\"//input[@id='bk_payment_card']\"\n",
    "driver.find_element_by_xpath(xpath).click()"
   ]
  },
  {
   "cell_type": "code",
   "execution_count": null,
   "id": "7aa3fa78",
   "metadata": {},
   "outputs": [],
   "source": [
    "xpath=\"//input[@id='agree1']\"\n",
    "driver.find_element_by_xpath(xpath).click()"
   ]
  },
  {
   "cell_type": "code",
   "execution_count": null,
   "id": "29ec01d4",
   "metadata": {},
   "outputs": [],
   "source": [
    "xpath=\"//input[@id='agree2']\"\n",
    "driver.find_element_by_xpath(xpath).click()"
   ]
  },
  {
   "cell_type": "code",
   "execution_count": null,
   "id": "56a7fa5e",
   "metadata": {},
   "outputs": [],
   "source": [
    "xpath=\"//button[@class='btn btn-success']\"\n",
    "driver.find_element_by_xpath(xpath).click()"
   ]
  },
  {
   "cell_type": "code",
   "execution_count": null,
   "id": "1fe33dfd",
   "metadata": {},
   "outputs": [],
   "source": [
    "time.sleep(1.5)"
   ]
  },
  {
   "cell_type": "code",
   "execution_count": null,
   "id": "dc9cb5cc",
   "metadata": {},
   "outputs": [],
   "source": [
    "#전체약관동의\n",
    "\n",
    "pyautogui.moveTo(418,387)\n",
    "pyautogui.click()"
   ]
  },
  {
   "cell_type": "code",
   "execution_count": null,
   "id": "bddd3e30",
   "metadata": {},
   "outputs": [],
   "source": [
    "#삼성카드선택\n",
    "\n",
    "pyautogui.moveTo(420,430)\n",
    "pyautogui.click()"
   ]
  },
  {
   "cell_type": "code",
   "execution_count": null,
   "id": "27b91b2a",
   "metadata": {},
   "outputs": [],
   "source": [
    "#카드선택완료\n",
    "\n",
    "pyautogui.moveTo(548,821)\n",
    "pyautogui.click()"
   ]
  },
  {
   "cell_type": "code",
   "execution_count": null,
   "id": "0fba638f",
   "metadata": {},
   "outputs": [],
   "source": [
    "time.sleep(1)"
   ]
  },
  {
   "cell_type": "code",
   "execution_count": null,
   "id": "6b962ed1",
   "metadata": {},
   "outputs": [],
   "source": [
    "#앱카드결제선택\n",
    "\n",
    "pyautogui.moveTo(633,571)\n",
    "pyautogui.click()"
   ]
  },
  {
   "cell_type": "code",
   "execution_count": null,
   "id": "cf7f8ddb",
   "metadata": {},
   "outputs": [],
   "source": [
    "time.sleep(10)"
   ]
  },
  {
   "cell_type": "code",
   "execution_count": null,
   "id": "5c8a5ae5",
   "metadata": {},
   "outputs": [],
   "source": [
    "#결제내용확인\n",
    "\n",
    "pyautogui.moveTo(444,602)\n",
    "pyautogui.click()"
   ]
  },
  {
   "cell_type": "code",
   "execution_count": null,
   "id": "3e692996",
   "metadata": {},
   "outputs": [],
   "source": [
    "#결제완료\n",
    "\n",
    "pyautogui.moveTo(554,815)\n",
    "pyautogui.click()"
   ]
  },
  {
   "cell_type": "code",
   "execution_count": null,
   "id": "2919f83b",
   "metadata": {},
   "outputs": [],
   "source": [
    "xpath=\"//button[@class='btn btn-lg btn-success']\"\n",
    "driver.find_element_by_xpath(xpath).click()"
   ]
  },
  {
   "cell_type": "code",
   "execution_count": null,
   "id": "54e0ec4d",
   "metadata": {
    "scrolled": false
   },
   "outputs": [],
   "source": [
    "#3번째\n",
    "\n",
    "xpath=\"//a[@title='토당시립코트 예약하기']\"\n",
    "driver.find_element_by_xpath(xpath).click()"
   ]
  },
  {
   "cell_type": "code",
   "execution_count": null,
   "id": "3a8d1cd8",
   "metadata": {},
   "outputs": [],
   "source": [
    "#코트번호4번=31, 5번=32\n",
    "\n",
    "xpath=\"//a[@data-rm-ix='32']\"\n",
    "driver.find_element_by_xpath(xpath).click()"
   ]
  },
  {
   "cell_type": "code",
   "execution_count": null,
   "id": "3d16442b",
   "metadata": {},
   "outputs": [],
   "source": [
    "time.sleep(1)"
   ]
  },
  {
   "cell_type": "code",
   "execution_count": null,
   "id": "4afc1da5",
   "metadata": {},
   "outputs": [],
   "source": [
    "xpath=\"//i[@class='fa fa-chevron-right']\"\n",
    "driver.find_element_by_xpath(xpath).click()"
   ]
  },
  {
   "cell_type": "code",
   "execution_count": null,
   "id": "3df5c3ff",
   "metadata": {},
   "outputs": [],
   "source": [
    "xpath=\"//a[@data-date='2022-03-08']\"\n",
    "driver.find_element_by_xpath(xpath).click()"
   ]
  },
  {
   "cell_type": "code",
   "execution_count": null,
   "id": "a1527b02",
   "metadata": {},
   "outputs": [],
   "source": [
    "xpath=\"//a[@data-time='18:00']\"\n",
    "driver.find_element_by_xpath(xpath).click()"
   ]
  },
  {
   "cell_type": "code",
   "execution_count": null,
   "id": "0cab0115",
   "metadata": {},
   "outputs": [],
   "source": [
    "xpath=\"//button[@class='btn btn-success']\"\n",
    "driver.find_element_by_xpath(xpath).click()"
   ]
  },
  {
   "cell_type": "code",
   "execution_count": null,
   "id": "4aae18c3",
   "metadata": {},
   "outputs": [],
   "source": [
    "xpath=\"//input[@id='bk_payment_card']\"\n",
    "driver.find_element_by_xpath(xpath).click()"
   ]
  },
  {
   "cell_type": "code",
   "execution_count": null,
   "id": "f5d37851",
   "metadata": {},
   "outputs": [],
   "source": [
    "xpath=\"//input[@id='agree1']\"\n",
    "driver.find_element_by_xpath(xpath).click()"
   ]
  },
  {
   "cell_type": "code",
   "execution_count": null,
   "id": "c3977886",
   "metadata": {},
   "outputs": [],
   "source": [
    "xpath=\"//input[@id='agree2']\"\n",
    "driver.find_element_by_xpath(xpath).click()"
   ]
  },
  {
   "cell_type": "code",
   "execution_count": null,
   "id": "38b4fad7",
   "metadata": {},
   "outputs": [],
   "source": [
    "xpath=\"//button[@class='btn btn-success']\"\n",
    "driver.find_element_by_xpath(xpath).click()"
   ]
  },
  {
   "cell_type": "code",
   "execution_count": null,
   "id": "8e691e65",
   "metadata": {},
   "outputs": [],
   "source": [
    "time.sleep(1.5)"
   ]
  },
  {
   "cell_type": "code",
   "execution_count": null,
   "id": "bca8e954",
   "metadata": {},
   "outputs": [],
   "source": [
    "#전체약관동의\n",
    "\n",
    "pyautogui.moveTo(418,387)\n",
    "pyautogui.click()"
   ]
  },
  {
   "cell_type": "code",
   "execution_count": null,
   "id": "d30c3d26",
   "metadata": {},
   "outputs": [],
   "source": [
    "#삼성카드선택\n",
    "\n",
    "pyautogui.moveTo(420,430)\n",
    "pyautogui.click()"
   ]
  },
  {
   "cell_type": "code",
   "execution_count": null,
   "id": "b1b2bd33",
   "metadata": {},
   "outputs": [],
   "source": [
    "#카드선택완료\n",
    "\n",
    "pyautogui.moveTo(548,821)\n",
    "pyautogui.click()"
   ]
  },
  {
   "cell_type": "code",
   "execution_count": null,
   "id": "0b0e47ac",
   "metadata": {},
   "outputs": [],
   "source": [
    "time.sleep(1)"
   ]
  },
  {
   "cell_type": "code",
   "execution_count": null,
   "id": "dd141996",
   "metadata": {},
   "outputs": [],
   "source": [
    "#앱카드결제선택\n",
    "\n",
    "pyautogui.moveTo(633,571)\n",
    "pyautogui.click()"
   ]
  },
  {
   "cell_type": "code",
   "execution_count": null,
   "id": "b2e64fbe",
   "metadata": {},
   "outputs": [],
   "source": [
    "time.sleep(10)"
   ]
  },
  {
   "cell_type": "code",
   "execution_count": null,
   "id": "94c08be1",
   "metadata": {},
   "outputs": [],
   "source": [
    "#결제내용확인\n",
    "\n",
    "pyautogui.moveTo(444,602)\n",
    "pyautogui.click()"
   ]
  },
  {
   "cell_type": "code",
   "execution_count": null,
   "id": "73bfd5ec",
   "metadata": {},
   "outputs": [],
   "source": [
    "#결제완료\n",
    "\n",
    "pyautogui.moveTo(554,815)\n",
    "pyautogui.click()"
   ]
  },
  {
   "cell_type": "code",
   "execution_count": null,
   "id": "38e71601",
   "metadata": {},
   "outputs": [],
   "source": [
    "xpath=\"//button[@class='btn btn-lg btn-success']\"\n",
    "driver.find_element_by_xpath(xpath).click()"
   ]
  },
  {
   "cell_type": "code",
   "execution_count": null,
   "id": "493c632f",
   "metadata": {
    "scrolled": false
   },
   "outputs": [],
   "source": [
    "#4번째\n",
    "\n",
    "xpath=\"//a[@title='토당시립코트 예약하기']\"\n",
    "driver.find_element_by_xpath(xpath).click()"
   ]
  },
  {
   "cell_type": "code",
   "execution_count": null,
   "id": "d3cfdf0d",
   "metadata": {},
   "outputs": [],
   "source": [
    "#코트번호4번=31, 5번=32\n",
    "\n",
    "xpath=\"//a[@data-rm-ix='31']\"\n",
    "driver.find_element_by_xpath(xpath).click()"
   ]
  },
  {
   "cell_type": "code",
   "execution_count": null,
   "id": "02b3ca9f",
   "metadata": {},
   "outputs": [],
   "source": [
    "time.sleep(1)"
   ]
  },
  {
   "cell_type": "code",
   "execution_count": null,
   "id": "f608e46e",
   "metadata": {},
   "outputs": [],
   "source": [
    "xpath=\"//i[@class='fa fa-chevron-right']\"\n",
    "driver.find_element_by_xpath(xpath).click()"
   ]
  },
  {
   "cell_type": "code",
   "execution_count": null,
   "id": "53e002d5",
   "metadata": {},
   "outputs": [],
   "source": [
    "xpath=\"//a[@data-date='2022-03-15']\"\n",
    "driver.find_element_by_xpath(xpath).click()"
   ]
  },
  {
   "cell_type": "code",
   "execution_count": null,
   "id": "d1758b28",
   "metadata": {},
   "outputs": [],
   "source": [
    "xpath=\"//a[@data-time='18:00']\"\n",
    "driver.find_element_by_xpath(xpath).click()"
   ]
  },
  {
   "cell_type": "code",
   "execution_count": null,
   "id": "77e66a48",
   "metadata": {},
   "outputs": [],
   "source": [
    "xpath=\"//button[@class='btn btn-success']\"\n",
    "driver.find_element_by_xpath(xpath).click()"
   ]
  },
  {
   "cell_type": "code",
   "execution_count": null,
   "id": "e9dd5d94",
   "metadata": {},
   "outputs": [],
   "source": [
    "xpath=\"//input[@id='bk_payment_card']\"\n",
    "driver.find_element_by_xpath(xpath).click()"
   ]
  },
  {
   "cell_type": "code",
   "execution_count": null,
   "id": "73291b29",
   "metadata": {},
   "outputs": [],
   "source": [
    "xpath=\"//input[@id='agree1']\"\n",
    "driver.find_element_by_xpath(xpath).click()"
   ]
  },
  {
   "cell_type": "code",
   "execution_count": null,
   "id": "2a287b9b",
   "metadata": {},
   "outputs": [],
   "source": [
    "xpath=\"//input[@id='agree2']\"\n",
    "driver.find_element_by_xpath(xpath).click()"
   ]
  },
  {
   "cell_type": "code",
   "execution_count": null,
   "id": "045d6a9f",
   "metadata": {},
   "outputs": [],
   "source": [
    "xpath=\"//button[@class='btn btn-success']\"\n",
    "driver.find_element_by_xpath(xpath).click()"
   ]
  },
  {
   "cell_type": "code",
   "execution_count": null,
   "id": "33f90f0e",
   "metadata": {},
   "outputs": [],
   "source": [
    "time.sleep(1.5)"
   ]
  },
  {
   "cell_type": "code",
   "execution_count": null,
   "id": "e979d3d2",
   "metadata": {},
   "outputs": [],
   "source": [
    "#전체약관동의\n",
    "\n",
    "pyautogui.moveTo(418,387)\n",
    "pyautogui.click()"
   ]
  },
  {
   "cell_type": "code",
   "execution_count": null,
   "id": "fb55a3d8",
   "metadata": {},
   "outputs": [],
   "source": [
    "#삼성카드선택\n",
    "\n",
    "pyautogui.moveTo(420,430)\n",
    "pyautogui.click()"
   ]
  },
  {
   "cell_type": "code",
   "execution_count": null,
   "id": "b1b2bd33",
   "metadata": {},
   "outputs": [],
   "source": [
    "#카드선택완료\n",
    "\n",
    "pyautogui.moveTo(548,821)\n",
    "pyautogui.click()"
   ]
  },
  {
   "cell_type": "code",
   "execution_count": null,
   "id": "0b0e47ac",
   "metadata": {},
   "outputs": [],
   "source": [
    "time.sleep(1)"
   ]
  },
  {
   "cell_type": "code",
   "execution_count": null,
   "id": "dd141996",
   "metadata": {},
   "outputs": [],
   "source": [
    "#앱카드결제선택\n",
    "\n",
    "pyautogui.moveTo(633,571)\n",
    "pyautogui.click()"
   ]
  },
  {
   "cell_type": "code",
   "execution_count": null,
   "id": "b2e64fbe",
   "metadata": {},
   "outputs": [],
   "source": [
    "time.sleep(10)"
   ]
  },
  {
   "cell_type": "code",
   "execution_count": null,
   "id": "94c08be1",
   "metadata": {},
   "outputs": [],
   "source": [
    "#결제내용확인\n",
    "\n",
    "pyautogui.moveTo(444,602)\n",
    "pyautogui.click()"
   ]
  },
  {
   "cell_type": "code",
   "execution_count": null,
   "id": "73bfd5ec",
   "metadata": {},
   "outputs": [],
   "source": [
    "#결제완료\n",
    "\n",
    "pyautogui.moveTo(554,815)\n",
    "pyautogui.click()"
   ]
  },
  {
   "cell_type": "code",
   "execution_count": null,
   "id": "38e71601",
   "metadata": {},
   "outputs": [],
   "source": [
    "xpath=\"//button[@class='btn btn-lg btn-success']\"\n",
    "driver.find_element_by_xpath(xpath).click()"
   ]
  },
  {
   "cell_type": "code",
   "execution_count": null,
   "id": "54e0ec4d",
   "metadata": {
    "scrolled": false
   },
   "outputs": [],
   "source": [
    "#5번째\n",
    "\n",
    "xpath=\"//a[@title='토당시립코트 예약하기']\"\n",
    "driver.find_element_by_xpath(xpath).click()"
   ]
  },
  {
   "cell_type": "code",
   "execution_count": null,
   "id": "3a8d1cd8",
   "metadata": {},
   "outputs": [],
   "source": [
    "#코트번호4번=31, 5번=32\n",
    "\n",
    "xpath=\"//a[@data-rm-ix='32']\"\n",
    "driver.find_element_by_xpath(xpath).click()"
   ]
  },
  {
   "cell_type": "code",
   "execution_count": null,
   "id": "3d16442b",
   "metadata": {},
   "outputs": [],
   "source": [
    "time.sleep(1)"
   ]
  },
  {
   "cell_type": "code",
   "execution_count": null,
   "id": "105745a0",
   "metadata": {},
   "outputs": [],
   "source": [
    "xpath=\"//i[@class='fa fa-chevron-right']\"\n",
    "driver.find_element_by_xpath(xpath).click()"
   ]
  },
  {
   "cell_type": "code",
   "execution_count": null,
   "id": "3df5c3ff",
   "metadata": {},
   "outputs": [],
   "source": [
    "xpath=\"//a[@data-date='2022-03-22']\"\n",
    "driver.find_element_by_xpath(xpath).click()"
   ]
  },
  {
   "cell_type": "code",
   "execution_count": null,
   "id": "a1527b02",
   "metadata": {},
   "outputs": [],
   "source": [
    "xpath=\"//a[@data-time='20:00']\"\n",
    "driver.find_element_by_xpath(xpath).click()"
   ]
  },
  {
   "cell_type": "code",
   "execution_count": null,
   "id": "0cab0115",
   "metadata": {},
   "outputs": [],
   "source": [
    "xpath=\"//button[@class='btn btn-success']\"\n",
    "driver.find_element_by_xpath(xpath).click()"
   ]
  },
  {
   "cell_type": "code",
   "execution_count": null,
   "id": "4aae18c3",
   "metadata": {},
   "outputs": [],
   "source": [
    "xpath=\"//input[@id='bk_payment_card']\"\n",
    "driver.find_element_by_xpath(xpath).click()"
   ]
  },
  {
   "cell_type": "code",
   "execution_count": null,
   "id": "f5d37851",
   "metadata": {},
   "outputs": [],
   "source": [
    "xpath=\"//input[@id='agree1']\"\n",
    "driver.find_element_by_xpath(xpath).click()"
   ]
  },
  {
   "cell_type": "code",
   "execution_count": null,
   "id": "c3977886",
   "metadata": {},
   "outputs": [],
   "source": [
    "xpath=\"//input[@id='agree2']\"\n",
    "driver.find_element_by_xpath(xpath).click()"
   ]
  },
  {
   "cell_type": "code",
   "execution_count": null,
   "id": "38b4fad7",
   "metadata": {},
   "outputs": [],
   "source": [
    "xpath=\"//button[@class='btn btn-success']\"\n",
    "driver.find_element_by_xpath(xpath).click()"
   ]
  },
  {
   "cell_type": "code",
   "execution_count": null,
   "id": "8e691e65",
   "metadata": {},
   "outputs": [],
   "source": [
    "time.sleep(1.5)"
   ]
  },
  {
   "cell_type": "code",
   "execution_count": null,
   "id": "bca8e954",
   "metadata": {},
   "outputs": [],
   "source": [
    "#전체약관동의\n",
    "\n",
    "pyautogui.moveTo(418,387)\n",
    "pyautogui.click()"
   ]
  },
  {
   "cell_type": "code",
   "execution_count": null,
   "id": "d30c3d26",
   "metadata": {},
   "outputs": [],
   "source": [
    "#삼성카드선택\n",
    "\n",
    "pyautogui.moveTo(420,430)\n",
    "pyautogui.click()"
   ]
  },
  {
   "cell_type": "code",
   "execution_count": null,
   "id": "b1b2bd33",
   "metadata": {},
   "outputs": [],
   "source": [
    "#카드선택완료\n",
    "\n",
    "pyautogui.moveTo(548,821)\n",
    "pyautogui.click()"
   ]
  },
  {
   "cell_type": "code",
   "execution_count": null,
   "id": "0b0e47ac",
   "metadata": {},
   "outputs": [],
   "source": [
    "time.sleep(1)"
   ]
  },
  {
   "cell_type": "code",
   "execution_count": null,
   "id": "dd141996",
   "metadata": {},
   "outputs": [],
   "source": [
    "#앱카드결제선택\n",
    "\n",
    "pyautogui.moveTo(633,571)\n",
    "pyautogui.click()"
   ]
  },
  {
   "cell_type": "code",
   "execution_count": null,
   "id": "b2e64fbe",
   "metadata": {},
   "outputs": [],
   "source": [
    "time.sleep(10)"
   ]
  },
  {
   "cell_type": "code",
   "execution_count": null,
   "id": "94c08be1",
   "metadata": {},
   "outputs": [],
   "source": [
    "#결제내용확인\n",
    "\n",
    "pyautogui.moveTo(444,602)\n",
    "pyautogui.click()"
   ]
  },
  {
   "cell_type": "code",
   "execution_count": null,
   "id": "73bfd5ec",
   "metadata": {},
   "outputs": [],
   "source": [
    "#결제완료\n",
    "\n",
    "pyautogui.moveTo(554,815)\n",
    "pyautogui.click()"
   ]
  },
  {
   "cell_type": "code",
   "execution_count": null,
   "id": "38e71601",
   "metadata": {},
   "outputs": [],
   "source": [
    "xpath=\"//button[@class='btn btn-lg btn-success']\"\n",
    "driver.find_element_by_xpath(xpath).click()"
   ]
  },
  {
   "cell_type": "code",
   "execution_count": null,
   "id": "54e0ec4d",
   "metadata": {
    "scrolled": false
   },
   "outputs": [],
   "source": [
    "#6번째\n",
    "\n",
    "xpath=\"//a[@title='토당시립코트 예약하기']\"\n",
    "driver.find_element_by_xpath(xpath).click()"
   ]
  },
  {
   "cell_type": "code",
   "execution_count": null,
   "id": "3a8d1cd8",
   "metadata": {},
   "outputs": [],
   "source": [
    "#코트번호4번=31, 5번=32\n",
    "\n",
    "xpath=\"//a[@data-rm-ix='31']\"\n",
    "driver.find_element_by_xpath(xpath).click()"
   ]
  },
  {
   "cell_type": "code",
   "execution_count": null,
   "id": "3d16442b",
   "metadata": {},
   "outputs": [],
   "source": [
    "time.sleep(1)"
   ]
  },
  {
   "cell_type": "code",
   "execution_count": null,
   "id": "b92d7320",
   "metadata": {},
   "outputs": [],
   "source": [
    "xpath=\"//i[@class='fa fa-chevron-right']\"\n",
    "driver.find_element_by_xpath(xpath).click()"
   ]
  },
  {
   "cell_type": "code",
   "execution_count": null,
   "id": "3df5c3ff",
   "metadata": {},
   "outputs": [],
   "source": [
    "xpath=\"//a[@data-date='2022-03-24']\"\n",
    "driver.find_element_by_xpath(xpath).click()"
   ]
  },
  {
   "cell_type": "code",
   "execution_count": null,
   "id": "a1527b02",
   "metadata": {},
   "outputs": [],
   "source": [
    "xpath=\"//a[@data-time='18:00']\"\n",
    "driver.find_element_by_xpath(xpath).click()"
   ]
  },
  {
   "cell_type": "code",
   "execution_count": null,
   "id": "0cab0115",
   "metadata": {},
   "outputs": [],
   "source": [
    "xpath=\"//button[@class='btn btn-success']\"\n",
    "driver.find_element_by_xpath(xpath).click()"
   ]
  },
  {
   "cell_type": "code",
   "execution_count": null,
   "id": "4aae18c3",
   "metadata": {},
   "outputs": [],
   "source": [
    "xpath=\"//input[@id='bk_payment_card']\"\n",
    "driver.find_element_by_xpath(xpath).click()"
   ]
  },
  {
   "cell_type": "code",
   "execution_count": null,
   "id": "f5d37851",
   "metadata": {},
   "outputs": [],
   "source": [
    "xpath=\"//input[@id='agree1']\"\n",
    "driver.find_element_by_xpath(xpath).click()"
   ]
  },
  {
   "cell_type": "code",
   "execution_count": null,
   "id": "c3977886",
   "metadata": {},
   "outputs": [],
   "source": [
    "xpath=\"//input[@id='agree2']\"\n",
    "driver.find_element_by_xpath(xpath).click()"
   ]
  },
  {
   "cell_type": "code",
   "execution_count": null,
   "id": "38b4fad7",
   "metadata": {},
   "outputs": [],
   "source": [
    "xpath=\"//button[@class='btn btn-success']\"\n",
    "driver.find_element_by_xpath(xpath).click()"
   ]
  },
  {
   "cell_type": "code",
   "execution_count": null,
   "id": "8e691e65",
   "metadata": {},
   "outputs": [],
   "source": [
    "time.sleep(1.5)"
   ]
  },
  {
   "cell_type": "code",
   "execution_count": null,
   "id": "bca8e954",
   "metadata": {},
   "outputs": [],
   "source": [
    "#전체약관동의\n",
    "\n",
    "pyautogui.moveTo(418,387)\n",
    "pyautogui.click()"
   ]
  },
  {
   "cell_type": "code",
   "execution_count": null,
   "id": "d30c3d26",
   "metadata": {},
   "outputs": [],
   "source": [
    "#삼성카드선택\n",
    "\n",
    "pyautogui.moveTo(420,430)\n",
    "pyautogui.click()"
   ]
  },
  {
   "cell_type": "code",
   "execution_count": null,
   "id": "b1b2bd33",
   "metadata": {},
   "outputs": [],
   "source": [
    "#카드선택완료\n",
    "\n",
    "pyautogui.moveTo(548,821)\n",
    "pyautogui.click()"
   ]
  },
  {
   "cell_type": "code",
   "execution_count": null,
   "id": "0b0e47ac",
   "metadata": {},
   "outputs": [],
   "source": [
    "time.sleep(1)"
   ]
  },
  {
   "cell_type": "code",
   "execution_count": null,
   "id": "dd141996",
   "metadata": {},
   "outputs": [],
   "source": [
    "#앱카드결제선택\n",
    "\n",
    "pyautogui.moveTo(633,571)\n",
    "pyautogui.click()"
   ]
  },
  {
   "cell_type": "code",
   "execution_count": null,
   "id": "b2e64fbe",
   "metadata": {},
   "outputs": [],
   "source": [
    "time.sleep(10)"
   ]
  },
  {
   "cell_type": "code",
   "execution_count": null,
   "id": "94c08be1",
   "metadata": {},
   "outputs": [],
   "source": [
    "#결제내용확인\n",
    "\n",
    "pyautogui.moveTo(444,602)\n",
    "pyautogui.click()"
   ]
  },
  {
   "cell_type": "code",
   "execution_count": null,
   "id": "73bfd5ec",
   "metadata": {},
   "outputs": [],
   "source": [
    "#결제완료\n",
    "\n",
    "pyautogui.moveTo(554,815)\n",
    "pyautogui.click()"
   ]
  },
  {
   "cell_type": "code",
   "execution_count": null,
   "id": "38e71601",
   "metadata": {},
   "outputs": [],
   "source": [
    "xpath=\"//button[@class='btn btn-lg btn-success']\"\n",
    "driver.find_element_by_xpath(xpath).click()"
   ]
  },
  {
   "cell_type": "code",
   "execution_count": null,
   "id": "54e0ec4d",
   "metadata": {
    "scrolled": false
   },
   "outputs": [],
   "source": [
    "#7번째\n",
    "\n",
    "xpath=\"//a[@title='토당시립코트 예약하기']\"\n",
    "driver.find_element_by_xpath(xpath).click()"
   ]
  },
  {
   "cell_type": "code",
   "execution_count": null,
   "id": "3a8d1cd8",
   "metadata": {},
   "outputs": [],
   "source": [
    "#코트번호4번=31, 5번=32\n",
    "\n",
    "xpath=\"//a[@data-rm-ix='32']\"\n",
    "driver.find_element_by_xpath(xpath).click()"
   ]
  },
  {
   "cell_type": "code",
   "execution_count": null,
   "id": "3d16442b",
   "metadata": {},
   "outputs": [],
   "source": [
    "time.sleep(1)"
   ]
  },
  {
   "cell_type": "code",
   "execution_count": null,
   "id": "92f4d904",
   "metadata": {},
   "outputs": [],
   "source": [
    "xpath=\"//i[@class='fa fa-chevron-right']\"\n",
    "driver.find_element_by_xpath(xpath).click()"
   ]
  },
  {
   "cell_type": "code",
   "execution_count": null,
   "id": "3df5c3ff",
   "metadata": {},
   "outputs": [],
   "source": [
    "xpath=\"//a[@data-date='2022-03-29']\"\n",
    "driver.find_element_by_xpath(xpath).click()"
   ]
  },
  {
   "cell_type": "code",
   "execution_count": null,
   "id": "a1527b02",
   "metadata": {},
   "outputs": [],
   "source": [
    "xpath=\"//a[@data-time='20:00']\"\n",
    "driver.find_element_by_xpath(xpath).click()"
   ]
  },
  {
   "cell_type": "code",
   "execution_count": null,
   "id": "0cab0115",
   "metadata": {},
   "outputs": [],
   "source": [
    "xpath=\"//button[@class='btn btn-success']\"\n",
    "driver.find_element_by_xpath(xpath).click()"
   ]
  },
  {
   "cell_type": "code",
   "execution_count": null,
   "id": "4aae18c3",
   "metadata": {},
   "outputs": [],
   "source": [
    "xpath=\"//input[@id='bk_payment_card']\"\n",
    "driver.find_element_by_xpath(xpath).click()"
   ]
  },
  {
   "cell_type": "code",
   "execution_count": null,
   "id": "f5d37851",
   "metadata": {},
   "outputs": [],
   "source": [
    "xpath=\"//input[@id='agree1']\"\n",
    "driver.find_element_by_xpath(xpath).click()"
   ]
  },
  {
   "cell_type": "code",
   "execution_count": null,
   "id": "c3977886",
   "metadata": {},
   "outputs": [],
   "source": [
    "xpath=\"//input[@id='agree2']\"\n",
    "driver.find_element_by_xpath(xpath).click()"
   ]
  },
  {
   "cell_type": "code",
   "execution_count": null,
   "id": "38b4fad7",
   "metadata": {},
   "outputs": [],
   "source": [
    "xpath=\"//button[@class='btn btn-success']\"\n",
    "driver.find_element_by_xpath(xpath).click()"
   ]
  },
  {
   "cell_type": "code",
   "execution_count": null,
   "id": "8e691e65",
   "metadata": {},
   "outputs": [],
   "source": [
    "time.sleep(1.5)"
   ]
  },
  {
   "cell_type": "code",
   "execution_count": null,
   "id": "bca8e954",
   "metadata": {},
   "outputs": [],
   "source": [
    "#전체약관동의\n",
    "\n",
    "pyautogui.moveTo(418,387)\n",
    "pyautogui.click()"
   ]
  },
  {
   "cell_type": "code",
   "execution_count": null,
   "id": "d30c3d26",
   "metadata": {},
   "outputs": [],
   "source": [
    "#삼성카드선택\n",
    "\n",
    "pyautogui.moveTo(420,430)\n",
    "pyautogui.click()"
   ]
  },
  {
   "cell_type": "code",
   "execution_count": null,
   "id": "b1b2bd33",
   "metadata": {},
   "outputs": [],
   "source": [
    "#카드선택완료\n",
    "\n",
    "pyautogui.moveTo(548,821)\n",
    "pyautogui.click()"
   ]
  },
  {
   "cell_type": "code",
   "execution_count": null,
   "id": "0b0e47ac",
   "metadata": {},
   "outputs": [],
   "source": [
    "time.sleep(1)"
   ]
  },
  {
   "cell_type": "code",
   "execution_count": null,
   "id": "dd141996",
   "metadata": {},
   "outputs": [],
   "source": [
    "#앱카드결제선택\n",
    "\n",
    "pyautogui.moveTo(633,571)\n",
    "pyautogui.click()"
   ]
  },
  {
   "cell_type": "code",
   "execution_count": null,
   "id": "b2e64fbe",
   "metadata": {},
   "outputs": [],
   "source": [
    "time.sleep(10)"
   ]
  },
  {
   "cell_type": "code",
   "execution_count": null,
   "id": "94c08be1",
   "metadata": {},
   "outputs": [],
   "source": [
    "#결제내용확인\n",
    "\n",
    "pyautogui.moveTo(444,602)\n",
    "pyautogui.click()"
   ]
  },
  {
   "cell_type": "code",
   "execution_count": null,
   "id": "73bfd5ec",
   "metadata": {},
   "outputs": [],
   "source": [
    "#결제완료\n",
    "\n",
    "pyautogui.moveTo(554,815)\n",
    "pyautogui.click()"
   ]
  },
  {
   "cell_type": "code",
   "execution_count": null,
   "id": "38e71601",
   "metadata": {},
   "outputs": [],
   "source": [
    "xpath=\"//button[@class='btn btn-lg btn-success']\"\n",
    "driver.find_element_by_xpath(xpath).click()"
   ]
  },
  {
   "cell_type": "code",
   "execution_count": null,
   "id": "54e0ec4d",
   "metadata": {
    "scrolled": false
   },
   "outputs": [],
   "source": [
    "#8번째\n",
    "\n",
    "xpath=\"//a[@title='토당시립코트 예약하기']\"\n",
    "driver.find_element_by_xpath(xpath).click()"
   ]
  },
  {
   "cell_type": "code",
   "execution_count": null,
   "id": "3a8d1cd8",
   "metadata": {},
   "outputs": [],
   "source": [
    "#코트번호4번=31, 5번=32\n",
    "\n",
    "xpath=\"//a[@data-rm-ix='31']\"\n",
    "driver.find_element_by_xpath(xpath).click()"
   ]
  },
  {
   "cell_type": "code",
   "execution_count": null,
   "id": "3d16442b",
   "metadata": {},
   "outputs": [],
   "source": [
    "time.sleep(1)"
   ]
  },
  {
   "cell_type": "code",
   "execution_count": null,
   "id": "12a54433",
   "metadata": {},
   "outputs": [],
   "source": [
    "xpath=\"//i[@class='fa fa-chevron-right']\"\n",
    "driver.find_element_by_xpath(xpath).click()"
   ]
  },
  {
   "cell_type": "code",
   "execution_count": null,
   "id": "3df5c3ff",
   "metadata": {},
   "outputs": [],
   "source": [
    "xpath=\"//a[@data-date='2022-03-31']\"\n",
    "driver.find_element_by_xpath(xpath).click()"
   ]
  },
  {
   "cell_type": "code",
   "execution_count": null,
   "id": "a1527b02",
   "metadata": {},
   "outputs": [],
   "source": [
    "xpath=\"//a[@data-time='18:00']\"\n",
    "driver.find_element_by_xpath(xpath).click()"
   ]
  },
  {
   "cell_type": "code",
   "execution_count": null,
   "id": "0cab0115",
   "metadata": {},
   "outputs": [],
   "source": [
    "xpath=\"//button[@class='btn btn-success']\"\n",
    "driver.find_element_by_xpath(xpath).click()"
   ]
  },
  {
   "cell_type": "code",
   "execution_count": null,
   "id": "4aae18c3",
   "metadata": {},
   "outputs": [],
   "source": [
    "xpath=\"//input[@id='bk_payment_card']\"\n",
    "driver.find_element_by_xpath(xpath).click()"
   ]
  },
  {
   "cell_type": "code",
   "execution_count": null,
   "id": "f5d37851",
   "metadata": {},
   "outputs": [],
   "source": [
    "xpath=\"//input[@id='agree1']\"\n",
    "driver.find_element_by_xpath(xpath).click()"
   ]
  },
  {
   "cell_type": "code",
   "execution_count": null,
   "id": "c3977886",
   "metadata": {},
   "outputs": [],
   "source": [
    "xpath=\"//input[@id='agree2']\"\n",
    "driver.find_element_by_xpath(xpath).click()"
   ]
  },
  {
   "cell_type": "code",
   "execution_count": null,
   "id": "38b4fad7",
   "metadata": {},
   "outputs": [],
   "source": [
    "xpath=\"//button[@class='btn btn-success']\"\n",
    "driver.find_element_by_xpath(xpath).click()"
   ]
  },
  {
   "cell_type": "code",
   "execution_count": null,
   "id": "8e691e65",
   "metadata": {},
   "outputs": [],
   "source": [
    "time.sleep(1.5)"
   ]
  },
  {
   "cell_type": "code",
   "execution_count": null,
   "id": "bca8e954",
   "metadata": {},
   "outputs": [],
   "source": [
    "#전체약관동의\n",
    "\n",
    "pyautogui.moveTo(418,387)\n",
    "pyautogui.click()"
   ]
  },
  {
   "cell_type": "code",
   "execution_count": null,
   "id": "d30c3d26",
   "metadata": {},
   "outputs": [],
   "source": [
    "#삼성카드선택\n",
    "\n",
    "pyautogui.moveTo(420,430)\n",
    "pyautogui.click()"
   ]
  },
  {
   "cell_type": "code",
   "execution_count": null,
   "id": "b1b2bd33",
   "metadata": {},
   "outputs": [],
   "source": [
    "#카드선택완료\n",
    "\n",
    "pyautogui.moveTo(548,821)\n",
    "pyautogui.click()"
   ]
  },
  {
   "cell_type": "code",
   "execution_count": null,
   "id": "0b0e47ac",
   "metadata": {},
   "outputs": [],
   "source": [
    "time.sleep(1)"
   ]
  },
  {
   "cell_type": "code",
   "execution_count": null,
   "id": "dd141996",
   "metadata": {},
   "outputs": [],
   "source": [
    "#앱카드결제선택\n",
    "\n",
    "pyautogui.moveTo(633,571)\n",
    "pyautogui.click()"
   ]
  },
  {
   "cell_type": "code",
   "execution_count": null,
   "id": "b2e64fbe",
   "metadata": {},
   "outputs": [],
   "source": [
    "time.sleep(10)"
   ]
  },
  {
   "cell_type": "code",
   "execution_count": null,
   "id": "94c08be1",
   "metadata": {},
   "outputs": [],
   "source": [
    "#결제내용확인\n",
    "\n",
    "pyautogui.moveTo(444,602)\n",
    "pyautogui.click()"
   ]
  },
  {
   "cell_type": "code",
   "execution_count": null,
   "id": "73bfd5ec",
   "metadata": {},
   "outputs": [],
   "source": [
    "#결제완료\n",
    "\n",
    "pyautogui.moveTo(554,815)\n",
    "pyautogui.click()"
   ]
  },
  {
   "cell_type": "code",
   "execution_count": null,
   "id": "38e71601",
   "metadata": {},
   "outputs": [],
   "source": [
    "xpath=\"//button[@class='btn btn-lg btn-success']\"\n",
    "driver.find_element_by_xpath(xpath).click()"
   ]
  }
 ],
 "metadata": {
  "kernelspec": {
   "display_name": "Python 3 (ipykernel)",
   "language": "python",
   "name": "python3"
  },
  "language_info": {
   "codemirror_mode": {
    "name": "ipython",
    "version": 3
   },
   "file_extension": ".py",
   "mimetype": "text/x-python",
   "name": "python",
   "nbconvert_exporter": "python",
   "pygments_lexer": "ipython3",
   "version": "3.8.12"
  }
 },
 "nbformat": 4,
 "nbformat_minor": 5
}
